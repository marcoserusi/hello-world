{
 "cells": [
  {
   "cell_type": "code",
   "execution_count": 1,
   "metadata": {},
   "outputs": [
    {
     "data": {
      "text/plain": [
       "'hello world'"
      ]
     },
     "execution_count": 1,
     "metadata": {},
     "output_type": "execute_result"
    }
   ],
   "source": [
    "'hello world'"
   ]
  },
  {
   "cell_type": "code",
   "execution_count": 12,
   "metadata": {},
   "outputs": [
    {
     "data": {
      "text/plain": [
       "'did you know that 1+1='"
      ]
     },
     "execution_count": 12,
     "metadata": {},
     "output_type": "execute_result"
    }
   ],
   "source": [
    "var1='did you know that 1+1='\n",
    "var1"
   ]
  },
  {
   "cell_type": "code",
   "execution_count": 14,
   "metadata": {},
   "outputs": [
    {
     "data": {
      "text/plain": [
       "2"
      ]
     },
     "execution_count": 14,
     "metadata": {},
     "output_type": "execute_result"
    }
   ],
   "source": [
    "var2=1+1\n",
    "var2"
   ]
  },
  {
   "cell_type": "code",
   "execution_count": 15,
   "metadata": {},
   "outputs": [
    {
     "data": {
      "text/plain": [
       "('did you know that 1+1=', 2)"
      ]
     },
     "execution_count": 15,
     "metadata": {},
     "output_type": "execute_result"
    }
   ],
   "source": [
    "var1,var2"
   ]
  },
  {
   "cell_type": "markdown",
   "metadata": {},
   "source": [
    "shocking,  I know"
   ]
  },
  {
   "cell_type": "code",
   "execution_count": 17,
   "metadata": {},
   "outputs": [
    {
     "data": {
      "text/plain": [
       "int"
      ]
     },
     "execution_count": 17,
     "metadata": {},
     "output_type": "execute_result"
    }
   ],
   "source": [
    "type(var2)"
   ]
  },
  {
   "cell_type": "code",
   "execution_count": 20,
   "metadata": {},
   "outputs": [],
   "source": [
    "name=\"potato\" #this creates a string named name (I think)"
   ]
  },
  {
   "cell_type": "code",
   "execution_count": 21,
   "metadata": {},
   "outputs": [
    {
     "data": {
      "text/plain": [
       "'a'"
      ]
     },
     "execution_count": 21,
     "metadata": {},
     "output_type": "execute_result"
    }
   ],
   "source": [
    "name[3] #this finds the third letter in the \"name\" string"
   ]
  },
  {
   "cell_type": "code",
   "execution_count": 22,
   "metadata": {},
   "outputs": [],
   "source": [
    "fun=\"pink fluffy unicorns dancing on rainbows\" #this should create a string called fun "
   ]
  },
  {
   "cell_type": "code",
   "execution_count": 24,
   "metadata": {},
   "outputs": [
    {
     "data": {
      "text/plain": [
       "'pink fluffy unicorns dancing on rainbows'"
      ]
     },
     "execution_count": 24,
     "metadata": {},
     "output_type": "execute_result"
    }
   ],
   "source": [
    "fun"
   ]
  },
  {
   "cell_type": "code",
   "execution_count": 26,
   "metadata": {},
   "outputs": [
    {
     "data": {
      "text/plain": [
       "'pink'"
      ]
     },
     "execution_count": 26,
     "metadata": {},
     "output_type": "execute_result"
    }
   ],
   "source": [
    "fun[0:4] #this selects the first four letters "
   ]
  },
  {
   "cell_type": "code",
   "execution_count": 31,
   "metadata": {},
   "outputs": [
    {
     "data": {
      "text/plain": [
       "'pn lfyuion acn nribw'"
      ]
     },
     "execution_count": 31,
     "metadata": {},
     "output_type": "execute_result"
    }
   ],
   "source": [
    "fun[::2] #this should return every second variable in the string "
   ]
  },
  {
   "cell_type": "code",
   "execution_count": 38,
   "metadata": {},
   "outputs": [
    {
     "data": {
      "text/plain": [
       "40"
      ]
     },
     "execution_count": 38,
     "metadata": {},
     "output_type": "execute_result"
    }
   ],
   "source": [
    "len(fun) #this measures the lenght of the fun "
   ]
  },
  {
   "cell_type": "code",
   "execution_count": 39,
   "metadata": {},
   "outputs": [
    {
     "data": {
      "text/plain": [
       "'pink fluffy unicorns dancing on rainbowspink fluffy unicorns dancing on rainbowspink fluffy unicorns dancing on rainbowspink fluffy unicorns dancing on rainbowspink fluffy unicorns dancing on rainbowspink fluffy unicorns dancing on rainbowspink fluffy unicorns dancing on rainbowspink fluffy unicorns dancing on rainbowspink fluffy unicorns dancing on rainbowspink fluffy unicorns dancing on rainbowspink fluffy unicorns dancing on rainbowspink fluffy unicorns dancing on rainbowspink fluffy unicorns dancing on rainbowspink fluffy unicorns dancing on rainbowspink fluffy unicorns dancing on rainbowspink fluffy unicorns dancing on rainbowspink fluffy unicorns dancing on rainbowspink fluffy unicorns dancing on rainbowspink fluffy unicorns dancing on rainbowspink fluffy unicorns dancing on rainbowspink fluffy unicorns dancing on rainbowspink fluffy unicorns dancing on rainbowspink fluffy unicorns dancing on rainbowspink fluffy unicorns dancing on rainbowspink fluffy unicorns dancing on rainbowspink fluffy unicorns dancing on rainbowspink fluffy unicorns dancing on rainbowspink fluffy unicorns dancing on rainbowspink fluffy unicorns dancing on rainbowspink fluffy unicorns dancing on rainbowspink fluffy unicorns dancing on rainbowspink fluffy unicorns dancing on rainbowspink fluffy unicorns dancing on rainbowspink fluffy unicorns dancing on rainbowspink fluffy unicorns dancing on rainbowspink fluffy unicorns dancing on rainbowspink fluffy unicorns dancing on rainbowspink fluffy unicorns dancing on rainbowspink fluffy unicorns dancing on rainbowspink fluffy unicorns dancing on rainbowspink fluffy unicorns dancing on rainbowspink fluffy unicorns dancing on rainbowspink fluffy unicorns dancing on rainbowspink fluffy unicorns dancing on rainbowspink fluffy unicorns dancing on rainbowspink fluffy unicorns dancing on rainbowspink fluffy unicorns dancing on rainbowspink fluffy unicorns dancing on rainbowspink fluffy unicorns dancing on rainbowspink fluffy unicorns dancing on rainbows'"
      ]
     },
     "execution_count": 39,
     "metadata": {},
     "output_type": "execute_result"
    }
   ],
   "source": [
    "50*fun #this should repeat the fun stuff 50 times"
   ]
  },
  {
   "cell_type": "code",
   "execution_count": 44,
   "metadata": {},
   "outputs": [],
   "source": [
    "xxx=3*fun+' ' #note that i had to add that empty ' ' at the end to have a space in between each repetition of the fun mantra "
   ]
  },
  {
   "cell_type": "code",
   "execution_count": 45,
   "metadata": {},
   "outputs": [
    {
     "data": {
      "text/plain": [
       "'pink fluffy unicorns dancing on rainbowspink fluffy unicorns dancing on rainbowspink fluffy unicorns dancing on rainbows '"
      ]
     },
     "execution_count": 45,
     "metadata": {},
     "output_type": "execute_result"
    }
   ],
   "source": [
    "xxx"
   ]
  },
  {
   "cell_type": "code",
   "execution_count": 47,
   "metadata": {},
   "outputs": [
    {
     "data": {
      "text/plain": [
       "12"
      ]
     },
     "execution_count": 47,
     "metadata": {},
     "output_type": "execute_result"
    }
   ],
   "source": [
    "fun.find('unicorns') #this thing should go find the unicorn in the fun "
   ]
  },
  {
   "cell_type": "code",
   "execution_count": 50,
   "metadata": {},
   "outputs": [
    {
     "name": "stdout",
     "output_type": "stream",
     "text": [
      "did you know that 1+1= 2\n"
     ]
    }
   ],
   "source": [
    "print(var1,var2) #I was getting those '' signs earlier because I just executed it without asking it to print, I am clearly not a good executioner"
   ]
  },
  {
   "cell_type": "code",
   "execution_count": 53,
   "metadata": {},
   "outputs": [
    {
     "name": "stdout",
     "output_type": "stream",
     "text": [
      "unicorns\n"
     ]
    }
   ],
   "source": [
    "print(fun[12:20]) #I will use index numbers to find unicorns"
   ]
  },
  {
   "cell_type": "code",
   "execution_count": 57,
   "metadata": {},
   "outputs": [],
   "source": [
    "uni=fun[12:20] #I am defining the variable uni as unicorns by using the index numbers "
   ]
  },
  {
   "cell_type": "code",
   "execution_count": 58,
   "metadata": {},
   "outputs": [
    {
     "name": "stdout",
     "output_type": "stream",
     "text": [
      "unicorns\n"
     ]
    }
   ],
   "source": [
    "print(uni) #I can now print unicorns... and people still say they aren't real "
   ]
  },
  {
   "cell_type": "code",
   "execution_count": 86,
   "metadata": {
    "collapsed": false,
    "jupyter": {
     "outputs_hidden": false
    }
   },
   "outputs": [
    {
     "name": "stdout",
     "output_type": "stream",
     "text": [
      "before upper: pink fluffy unicorns dancing on rainbows\n",
      "After upper: PINK FLUFFY UNICORNS DANCING ON RAINBOWS\n"
     ]
    }
   ],
   "source": [
    "# Convert all the characters in string to upper case\n",
    "\n",
    "A = fun\n",
    "print(\"before upper:\", A)\n",
    "B = A.upper() #note that if you don't put the () in there it doesn't work \n",
    "print(\"After upper:\", B)"
   ]
  },
  {
   "cell_type": "code",
   "execution_count": 75,
   "metadata": {},
   "outputs": [],
   "source": [
    "C='my life is good'"
   ]
  },
  {
   "cell_type": "code",
   "execution_count": 76,
   "metadata": {},
   "outputs": [],
   "source": [
    "D=C.replace('good', 'potato')"
   ]
  },
  {
   "cell_type": "code",
   "execution_count": 77,
   "metadata": {},
   "outputs": [
    {
     "name": "stdout",
     "output_type": "stream",
     "text": [
      "my life is potato\n"
     ]
    }
   ],
   "source": [
    "print(D)"
   ]
  },
  {
   "cell_type": "code",
   "execution_count": 83,
   "metadata": {},
   "outputs": [],
   "source": [
    "F=\"So long and thanks for all the fish\""
   ]
  },
  {
   "cell_type": "code",
   "execution_count": 85,
   "metadata": {},
   "outputs": [
    {
     "name": "stdout",
     "output_type": "stream",
     "text": [
      "what were their last words? \n",
      "So long and thanks for all the fish.\n"
     ]
    }
   ],
   "source": [
    "print('what were their last words? \\n'+F+\".\") "
   ]
  },
  {
   "cell_type": "code",
   "execution_count": null,
   "metadata": {},
   "outputs": [],
   "source": []
  }
 ],
 "metadata": {
  "kernelspec": {
   "display_name": "Python",
   "language": "python",
   "name": "conda-env-python-py"
  },
  "language_info": {
   "codemirror_mode": {
    "name": "ipython",
    "version": 3
   },
   "file_extension": ".py",
   "mimetype": "text/x-python",
   "name": "python",
   "nbconvert_exporter": "python",
   "pygments_lexer": "ipython3",
   "version": "3.6.10"
  }
 },
 "nbformat": 4,
 "nbformat_minor": 4
}
